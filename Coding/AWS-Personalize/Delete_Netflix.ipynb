{
 "cells": [
  {
   "cell_type": "code",
   "execution_count": 1,
   "metadata": {},
   "outputs": [],
   "source": [
    "import time\n",
    "from time import sleep\n",
    "import json\n",
    "from datetime import datetime\n",
    "import boto3\n",
    "import pandas as pd"
   ]
  },
  {
   "cell_type": "code",
   "execution_count": 2,
   "metadata": {},
   "outputs": [],
   "source": [
    "# Connexion AWS\n",
    "import boto3\n",
    "aws_session = boto3.Session(\n",
    "    aws_access_key_id=\"\",\n",
    "    aws_secret_access_key=\"\",\n",
    "    region_name=\"\"\n",
    "    )\n",
    "\n",
    "num_data=1"
   ]
  },
  {
   "cell_type": "code",
   "execution_count": 3,
   "metadata": {},
   "outputs": [],
   "source": [
    "data_set_group_name = \"personalize-demo-movielens\"+str(num_data) # A faire pour créer chaque modèle (personalize-demo-movielens1 à personalize-demo-movielens4)\n",
    "\n",
    "# Create a client session for presonnalize\n",
    "personalize = aws_session.client('personalize')\n",
    "\n",
    "#  Configure the SDK to Personalize:\n",
    "personalize_runtime = aws_session.client('personalize-runtime')"
   ]
  },
  {
   "cell_type": "code",
   "execution_count": null,
   "metadata": {},
   "outputs": [],
   "source": [
    "# Delete the campaign\n",
    "#campaign_arn = \"arn:aws:personalize:eu-west-1:461868250861:campaign/personalize-demo-camp1\"\n",
    "#campaign_arn = \"arn:aws:personalize:eu-west-1:461868250861:campaign/personalize-demo-camp2\"\n",
    "#campaign_arn = \"arn:aws:personalize:eu-west-1:461868250861:campaign/personalize-demo-camp3\"\n",
    "#campaign_arn = \"arn:aws:personalize:eu-west-1:461868250861:campaign/personalize-demo-camp4\"\n",
    "personalize.delete_campaign(campaignArn=campaign_arn)\n",
    "\n",
    "print(\"delete_campaign done\")\n"
   ]
  },
  {
   "cell_type": "code",
   "execution_count": null,
   "metadata": {},
   "outputs": [],
   "source": [
    "# Delete the solution\n",
    "#solution_arn = \"arn:aws:personalize:eu-west-1:461868250861:solution/personalize-demo-soln-user-personalization1\"\n",
    "#solution_arn = \"arn:aws:personalize:eu-west-1:461868250861:solution/personalize-demo-soln-user-personalization2\"\n",
    "#solution_arn = \"arn:aws:personalize:eu-west-1:461868250861:solution/personalize-demo-soln-user-personalization3\"\n",
    "#solution_arn = \"arn:aws:personalize:eu-west-1:461868250861:solution/personalize-demo-soln-user-personalization4\"\n",
    "personalize.delete_solution(solutionArn=solution_arn)\n",
    "print(\"delete_solution done\")\n"
   ]
  },
  {
   "cell_type": "code",
   "execution_count": 5,
   "metadata": {},
   "outputs": [
    {
     "data": {
      "text/plain": [
       "{'ResponseMetadata': {'RequestId': '567d1579-a365-42bb-8213-00f9ffa0872c',\n",
       "  'HTTPStatusCode': 200,\n",
       "  'HTTPHeaders': {'date': 'Mon, 18 Jul 2022 20:05:34 GMT',\n",
       "   'content-type': 'application/x-amz-json-1.1',\n",
       "   'content-length': '0',\n",
       "   'connection': 'keep-alive',\n",
       "   'x-amzn-requestid': '567d1579-a365-42bb-8213-00f9ffa0872c'},\n",
       "  'RetryAttempts': 0}}"
      ]
     },
     "execution_count": 5,
     "metadata": {},
     "output_type": "execute_result"
    }
   ],
   "source": [
    "# Delete the interaction dataset\n",
    "#interactions_dataset_arn = \"arn:aws:personalize:eu-west-1:461868250861:dataset/personalize-demo-movielens1/INTERACTIONS\"\n",
    "#interactions_dataset_arn = \"arn:aws:personalize:eu-west-1:461868250861:dataset/personalize-demo-movielens2/INTERACTIONS\"\n",
    "#interactions_dataset_arn = \"arn:aws:personalize:eu-west-1:461868250861:dataset/personalize-demo-movielens3/INTERACTIONS\"\n",
    "#interactions_dataset_arn = \"arn:aws:personalize:eu-west-1:461868250861:dataset/personalize-demo-movielens4/INTERACTIONS\"\n",
    "personalize.delete_dataset(datasetArn=interactions_dataset_arn)"
   ]
  },
  {
   "cell_type": "code",
   "execution_count": 7,
   "metadata": {},
   "outputs": [
    {
     "data": {
      "text/plain": [
       "{'ResponseMetadata': {'RequestId': 'a52e1575-6b12-496c-8051-1e2e98fbeee2',\n",
       "  'HTTPStatusCode': 200,\n",
       "  'HTTPHeaders': {'date': 'Mon, 18 Jul 2022 20:06:14 GMT',\n",
       "   'content-type': 'application/x-amz-json-1.1',\n",
       "   'content-length': '0',\n",
       "   'connection': 'keep-alive',\n",
       "   'x-amzn-requestid': 'a52e1575-6b12-496c-8051-1e2e98fbeee2'},\n",
       "  'RetryAttempts': 0}}"
      ]
     },
     "execution_count": 7,
     "metadata": {},
     "output_type": "execute_result"
    }
   ],
   "source": [
    "# Delete the schema\n",
    "#interaction_schema_arn = \"arn:aws:personalize:eu-west-1:461868250861:schema/personalize-demo-movielens1-interactions\"\n",
    "#interaction_schema_arn = \"arn:aws:personalize:eu-west-1:461868250861:schema/personalize-demo-movielens2-interactions\"\n",
    "#interaction_schema_arn = \"arn:aws:personalize:eu-west-1:461868250861:schema/personalize-demo-movielens3-interactions\"\n",
    "#interaction_schema_arn = \"arn:aws:personalize:eu-west-1:461868250861:schema/personalize-demo-movielens4-interactions\"\n",
    "personalize.delete_schema(schemaArn=interaction_schema_arn)"
   ]
  },
  {
   "cell_type": "code",
   "execution_count": 8,
   "metadata": {},
   "outputs": [
    {
     "data": {
      "text/plain": [
       "{'ResponseMetadata': {'RequestId': 'fd583b98-7bd8-4711-a334-92fbb2b13175',\n",
       "  'HTTPStatusCode': 200,\n",
       "  'HTTPHeaders': {'date': 'Mon, 18 Jul 2022 20:06:56 GMT',\n",
       "   'content-type': 'application/x-amz-json-1.1',\n",
       "   'content-length': '0',\n",
       "   'connection': 'keep-alive',\n",
       "   'x-amzn-requestid': 'fd583b98-7bd8-4711-a334-92fbb2b13175'},\n",
       "  'RetryAttempts': 0}}"
      ]
     },
     "execution_count": 8,
     "metadata": {},
     "output_type": "execute_result"
    }
   ],
   "source": [
    "# Delete the dataset group\n",
    "#dataset_group_arn = \"arn:aws:personalize:eu-west-1:461868250861:dataset-group/personalize-demo-movielens1\"\n",
    "#dataset_group_arn = \"arn:aws:personalize:eu-west-1:461868250861:dataset-group/personalize-demo-movielens2\"\n",
    "#dataset_group_arn = \"arn:aws:personalize:eu-west-1:461868250861:dataset-group/personalize-demo-movielens3\"\n",
    "#dataset_group_arn = \"arn:aws:personalize:eu-west-1:461868250861:dataset-group/personalize-demo-movielens4\"\n",
    "personalize.delete_dataset_group(datasetGroupArn = dataset_group_arn)"
   ]
  }
 ],
 "metadata": {
  "kernelspec": {
   "display_name": "Python 3.9.7 ('base')",
   "language": "python",
   "name": "python3"
  },
  "language_info": {
   "codemirror_mode": {
    "name": "ipython",
    "version": 3
   },
   "file_extension": ".py",
   "mimetype": "text/x-python",
   "name": "python",
   "nbconvert_exporter": "python",
   "pygments_lexer": "ipython3",
   "version": "3.9.7"
  },
  "orig_nbformat": 4,
  "vscode": {
   "interpreter": {
    "hash": "ad2bdc8ecc057115af97d19610ffacc2b4e99fae6737bb82f5d7fb13d2f2c186"
   }
  }
 },
 "nbformat": 4,
 "nbformat_minor": 2
}
