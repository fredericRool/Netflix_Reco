{
 "cells": [
  {
   "cell_type": "code",
   "execution_count": 37,
   "metadata": {},
   "outputs": [
    {
     "name": "stdout",
     "output_type": "stream",
     "text": [
      "\"{\\\"columns\\\":[\\\"Movie_Id\\\",\\\"Name\\\",\\\"current_time\\\",\\\"customerID\\\"],\\\"index\\\":[0,1,2,3,4,5,6,7,8,9],\\\"data\\\":[[1997.0,\\\"Into Thin Air: Death on Everest\\\",1657639907924,2120982],[2004.0,\\\"Halloweentown High\\\",1657639907924,2120982],[2002.0,\\\"Bark\\\",1657639907924,2120982],[2003.0,\\\"Three Blind Mice\\\",1657639907924,2120982],[1993.0,\\\"The War Room\\\",1657639907924,2120982],[1997.0,\\\"Lost Highway\\\",1657639907924,2120982],[1955.0,\\\"The Ladykillers\\\",1657639907924,2120982],[2000.0,\\\"The Prophecy 3: The Ascent\\\",1657639907924,2120982],[2001.0,\\\"REO Speedwagon: Live Plus\\\",1657639907924,2120982],[1992.0,\\\"Inspector Morse 25: Cherubim & Seraphim\\\",1657639907924,2120982]]}\"\n",
      "============\n",
      "{'columns': ['Movie_Id', 'Name', 'current_time', 'customerID'], 'index': [0, 1, 2, 3, 4, 5, 6, 7, 8, 9], 'data': [[1997.0, 'Into Thin Air: Death on Everest', 1657639907924, 2120982], [2004.0, 'Halloweentown High', 1657639907924, 2120982], [2002.0, 'Bark', 1657639907924, 2120982], [2003.0, 'Three Blind Mice', 1657639907924, 2120982], [1993.0, 'The War Room', 1657639907924, 2120982], [1997.0, 'Lost Highway', 1657639907924, 2120982], [1955.0, 'The Ladykillers', 1657639907924, 2120982], [2000.0, 'The Prophecy 3: The Ascent', 1657639907924, 2120982], [2001.0, 'REO Speedwagon: Live Plus', 1657639907924, 2120982], [1992.0, 'Inspector Morse 25: Cherubim & Seraphim', 1657639907924, 2120982]]}\n",
      "============\n",
      "[[1997.0, 'Into Thin Air: Death on Everest', 1657639907924, 2120982], [2004.0, 'Halloweentown High', 1657639907924, 2120982], [2002.0, 'Bark', 1657639907924, 2120982], [2003.0, 'Three Blind Mice', 1657639907924, 2120982], [1993.0, 'The War Room', 1657639907924, 2120982], [1997.0, 'Lost Highway', 1657639907924, 2120982], [1955.0, 'The Ladykillers', 1657639907924, 2120982], [2000.0, 'The Prophecy 3: The Ascent', 1657639907924, 2120982], [2001.0, 'REO Speedwagon: Live Plus', 1657639907924, 2120982], [1992.0, 'Inspector Morse 25: Cherubim & Seraphim', 1657639907924, 2120982]]\n",
      "   Movie_Id                                     Name   current_time  \\\n",
      "0    1997.0          Into Thin Air: Death on Everest  1657639907924   \n",
      "1    2004.0                       Halloweentown High  1657639907924   \n",
      "2    2002.0                                     Bark  1657639907924   \n",
      "3    2003.0                         Three Blind Mice  1657639907924   \n",
      "4    1993.0                             The War Room  1657639907924   \n",
      "5    1997.0                             Lost Highway  1657639907924   \n",
      "6    1955.0                          The Ladykillers  1657639907924   \n",
      "7    2000.0               The Prophecy 3: The Ascent  1657639907924   \n",
      "8    2001.0                REO Speedwagon: Live Plus  1657639907924   \n",
      "9    1992.0  Inspector Morse 25: Cherubim & Seraphim  1657639907924   \n",
      "\n",
      "   customerID  \n",
      "0     2120982  \n",
      "1     2120982  \n",
      "2     2120982  \n",
      "3     2120982  \n",
      "4     2120982  \n",
      "5     2120982  \n",
      "6     2120982  \n",
      "7     2120982  \n",
      "8     2120982  \n",
      "9     2120982  \n"
     ]
    }
   ],
   "source": [
    "import requests\n",
    "import pandas as pd\n",
    "import json\n",
    "\n",
    "url = \"https://jedha-netflix-real-time-api.herokuapp.com/users-currently-watching-movie\"\n",
    "response = requests.request(\"GET\", url)\n",
    "\n",
    "print(response.text)\n",
    "data = json.loads(json.loads(response.text))\n",
    "print(\"============\")\n",
    "print(data)\n",
    "print(\"============\")\n",
    "print(data[\"data\"])\n",
    "# Use pandas.DataFrame.from_dict() to Convert JSON to DataFrame\n",
    "df2 = pd.DataFrame(data[\"data\"], index=data[\"index\"],columns=data[\"columns\"])\n",
    "print(df2)"
   ]
  }
 ],
 "metadata": {
  "kernelspec": {
   "display_name": "Python 3.9.7 ('base')",
   "language": "python",
   "name": "python3"
  },
  "language_info": {
   "name": "python",
   "version": "3.9.7"
  },
  "orig_nbformat": 4,
  "vscode": {
   "interpreter": {
    "hash": "ad2bdc8ecc057115af97d19610ffacc2b4e99fae6737bb82f5d7fb13d2f2c186"
   }
  }
 },
 "nbformat": 4,
 "nbformat_minor": 2
}
